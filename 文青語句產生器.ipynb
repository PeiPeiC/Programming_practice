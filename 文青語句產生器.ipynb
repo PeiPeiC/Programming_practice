{
 "cells": [
  {
   "cell_type": "code",
   "execution_count": 44,
   "id": "09c4754b",
   "metadata": {},
   "outputs": [],
   "source": [
    "filename1='first.txt'\n",
    "filename2='second.txt'\n",
    "filename3='third.txt'\n"
   ]
  },
  {
   "cell_type": "code",
   "execution_count": 45,
   "id": "8221cce7",
   "metadata": {
    "scrolled": false
   },
   "outputs": [],
   "source": [
    "with open(filename1,encoding=\"utf-8\") as file:\n",
    "    sentences1 = file.readlines()"
   ]
  },
  {
   "cell_type": "code",
   "execution_count": 46,
   "id": "535b6787",
   "metadata": {},
   "outputs": [
    {
     "data": {
      "text/plain": [
       "['端坐在木質的長桌前\\n',\n",
       " '紙頁橫躺，一支筆與它交錯\\n',\n",
       " '上頭密密麻麻寫著\\n',\n",
       " '「讓文字發出光亮\\n',\n",
       " '如何可能？」\\n',\n",
       " '終日翻查著詞典\\n',\n",
       " '跨越了日常叢生的言語\\n',\n",
       " '在隱喻繁生的地帶\\n',\n",
       " '取下草木與灰\\n',\n",
       " '你說，像個科學家\\n',\n",
       " '「火與光的意象\\n',\n",
       " '連結緊密」\\n',\n",
       " '燒盡繁雜的言語以後\\n',\n",
       " '隱喻在夜中生輝\\n',\n",
       " '「我說要有光\\n',\n",
       " '就有了光」\\n',\n",
       " '像信仰一般純粹而堅定\\n',\n",
       " '搖曳的火光中你如是說']"
      ]
     },
     "execution_count": 46,
     "metadata": {},
     "output_type": "execute_result"
    }
   ],
   "source": [
    "sentences1"
   ]
  },
  {
   "cell_type": "code",
   "execution_count": 47,
   "id": "628f5515",
   "metadata": {},
   "outputs": [],
   "source": [
    "with open(filename2,encoding=\"utf-8\") as file:\n",
    "    sentences2 = file.readlines()"
   ]
  },
  {
   "cell_type": "code",
   "execution_count": 48,
   "id": "a2d9d332",
   "metadata": {},
   "outputs": [
    {
     "data": {
      "text/plain": [
       "['把自己縫進你的腳後跟\\n',\n",
       " '你走一步\\n',\n",
       " '我也走一步\\n',\n",
       " '你的弱點叫Achilles\\n',\n",
       " '我的弱點是影子\\n',\n",
       " '你一回頭\\n',\n",
       " '我就暗下來\\n',\n",
       " '只能時時刻刻跟緊你\\n']"
      ]
     },
     "execution_count": 48,
     "metadata": {},
     "output_type": "execute_result"
    }
   ],
   "source": [
    "sentences2"
   ]
  },
  {
   "cell_type": "code",
   "execution_count": 49,
   "id": "cd78c2b5",
   "metadata": {},
   "outputs": [],
   "source": [
    "with open(filename3,encoding=\"utf-8\") as file:\n",
    "    sentences3 = file.readlines()"
   ]
  },
  {
   "cell_type": "code",
   "execution_count": 50,
   "id": "c8e47b5b",
   "metadata": {},
   "outputs": [
    {
     "data": {
      "text/plain": [
       "['牽起你像牽起一條\\n',\n",
       " '窄窄的紙帶\\n',\n",
       " '時日延展\\u3000長了\\n',\n",
       " '要不折也難\\n',\n",
       " '情人總是說我們分開好嗎\\n',\n",
       " '像問題還存在著\\n',\n",
       " '其他選項一樣\\n',\n",
       " '剪去我則是剪裁一份\\n',\n",
       " '線條乾淨的勞作\\n',\n",
       " '你拾起一端\\n',\n",
       " '一百八十度翻轉\\n',\n",
       " '言語抱歉\\u3000手底決絕\\n',\n",
       " '還是依循\\n',\n",
       " '所有好好生活的承諾\\n',\n",
       " '把日子接過\\n',\n",
       " '黏合 如約往前走\\n',\n",
       " '卻總回到熟悉的幻痛\\n',\n",
       " '原本該差錯\\n',\n",
       " '路是平直的紙帶\\n',\n",
       " '從此成了梅比斯的環\\n',\n",
       " '往事疊上往事\\n',\n",
       " '周而復返\\n',\n",
       " '多渴望翻轉\\n',\n",
       " '也包含了你的去向\\n',\n",
       " '我會讓哀傷重載\\n',\n",
       " '會徐徐忍耐\\n',\n",
       " '不要你背影漸淡\\n',\n",
       " '要你回來\\u3000']"
      ]
     },
     "execution_count": 50,
     "metadata": {},
     "output_type": "execute_result"
    }
   ],
   "source": [
    "sentences3"
   ]
  },
  {
   "cell_type": "code",
   "execution_count": 51,
   "id": "26689065",
   "metadata": {},
   "outputs": [],
   "source": [
    "sentence1 = [sentence.replace('\\n', '').replace('？', '').replace('「', '').replace('」', '') for sentence in sentences1]"
   ]
  },
  {
   "cell_type": "code",
   "execution_count": 52,
   "id": "42a1c194",
   "metadata": {
    "scrolled": true
   },
   "outputs": [
    {
     "data": {
      "text/plain": [
       "['端坐在木質的長桌前',\n",
       " '紙頁橫躺，一支筆與它交錯',\n",
       " '上頭密密麻麻寫著',\n",
       " '讓文字發出光亮',\n",
       " '如何可能',\n",
       " '終日翻查著詞典',\n",
       " '跨越了日常叢生的言語',\n",
       " '在隱喻繁生的地帶',\n",
       " '取下草木與灰',\n",
       " '你說，像個科學家',\n",
       " '火與光的意象',\n",
       " '連結緊密',\n",
       " '燒盡繁雜的言語以後',\n",
       " '隱喻在夜中生輝',\n",
       " '我說要有光',\n",
       " '就有了光',\n",
       " '像信仰一般純粹而堅定',\n",
       " '搖曳的火光中你如是說']"
      ]
     },
     "execution_count": 52,
     "metadata": {},
     "output_type": "execute_result"
    }
   ],
   "source": [
    "sentence1"
   ]
  },
  {
   "cell_type": "code",
   "execution_count": 53,
   "id": "a60fa570",
   "metadata": {},
   "outputs": [],
   "source": [
    "sentence2 = [sentence.replace('\\n', '').replace('？', '').replace('「', '').replace('」', '') for sentence in sentences2]"
   ]
  },
  {
   "cell_type": "code",
   "execution_count": 54,
   "id": "8859a088",
   "metadata": {},
   "outputs": [
    {
     "data": {
      "text/plain": [
       "['把自己縫進你的腳後跟',\n",
       " '你走一步',\n",
       " '我也走一步',\n",
       " '你的弱點叫Achilles',\n",
       " '我的弱點是影子',\n",
       " '你一回頭',\n",
       " '我就暗下來',\n",
       " '只能時時刻刻跟緊你']"
      ]
     },
     "execution_count": 54,
     "metadata": {},
     "output_type": "execute_result"
    }
   ],
   "source": [
    "sentence2"
   ]
  },
  {
   "cell_type": "code",
   "execution_count": 57,
   "id": "d9655533",
   "metadata": {},
   "outputs": [],
   "source": [
    "sentence3 = [sentence.replace('\\n', '').replace('？', '').replace('「', '').replace('」', '').replace('\\u3000', ' ') for sentence in sentences3]"
   ]
  },
  {
   "cell_type": "code",
   "execution_count": 58,
   "id": "3a7fe79f",
   "metadata": {},
   "outputs": [
    {
     "data": {
      "text/plain": [
       "['牽起你像牽起一條',\n",
       " '窄窄的紙帶',\n",
       " '時日延展 長了',\n",
       " '要不折也難',\n",
       " '情人總是說我們分開好嗎',\n",
       " '像問題還存在著',\n",
       " '其他選項一樣',\n",
       " '剪去我則是剪裁一份',\n",
       " '線條乾淨的勞作',\n",
       " '你拾起一端',\n",
       " '一百八十度翻轉',\n",
       " '言語抱歉 手底決絕',\n",
       " '還是依循',\n",
       " '所有好好生活的承諾',\n",
       " '把日子接過',\n",
       " '黏合 如約往前走',\n",
       " '卻總回到熟悉的幻痛',\n",
       " '原本該差錯',\n",
       " '路是平直的紙帶',\n",
       " '從此成了梅比斯的環',\n",
       " '往事疊上往事',\n",
       " '周而復返',\n",
       " '多渴望翻轉',\n",
       " '也包含了你的去向',\n",
       " '我會讓哀傷重載',\n",
       " '會徐徐忍耐',\n",
       " '不要你背影漸淡',\n",
       " '要你回來 ']"
      ]
     },
     "execution_count": 58,
     "metadata": {},
     "output_type": "execute_result"
    }
   ],
   "source": [
    "sentence3"
   ]
  },
  {
   "cell_type": "code",
   "execution_count": 62,
   "id": "a90e402e",
   "metadata": {
    "scrolled": true
   },
   "outputs": [
    {
     "data": {
      "text/plain": [
       "'在隱喻繁生的地帶，你的弱點叫Achilles，周而復返'"
      ]
     },
     "execution_count": 62,
     "metadata": {},
     "output_type": "execute_result"
    }
   ],
   "source": [
    "import random\n",
    "random.choice(sentence1) + '，'+ random.choice(sentence2) +  '，' + random.choice(sentence3)"
   ]
  },
  {
   "cell_type": "code",
   "execution_count": null,
   "id": "fbf01838",
   "metadata": {},
   "outputs": [],
   "source": []
  },
  {
   "cell_type": "code",
   "execution_count": null,
   "id": "7b3a1c77",
   "metadata": {},
   "outputs": [],
   "source": []
  }
 ],
 "metadata": {
  "kernelspec": {
   "display_name": "Python 3 (ipykernel)",
   "language": "python",
   "name": "python3"
  },
  "language_info": {
   "codemirror_mode": {
    "name": "ipython",
    "version": 3
   },
   "file_extension": ".py",
   "mimetype": "text/x-python",
   "name": "python",
   "nbconvert_exporter": "python",
   "pygments_lexer": "ipython3",
   "version": "3.9.12"
  }
 },
 "nbformat": 4,
 "nbformat_minor": 5
}
